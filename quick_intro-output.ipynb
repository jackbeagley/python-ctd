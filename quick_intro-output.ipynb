{
 "cells": [
  {
   "cell_type": "markdown",
   "metadata": {},
   "source": [
    "# Quick introduction\n",
    "\n",
    "## Reading and plotting"
   ]
  },
  {
   "cell_type": "code",
   "execution_count": 1,
   "metadata": {
    "execution": {
     "iopub.execute_input": "2022-05-31T17:34:30.862917Z",
     "iopub.status.busy": "2022-05-31T17:34:30.862612Z",
     "iopub.status.idle": "2022-05-31T17:34:31.617193Z",
     "shell.execute_reply": "2022-05-31T17:34:31.616530Z"
    },
    "scrolled": false
   },
   "outputs": [],
   "source": [
    "import io\n",
    "import requests\n",
    "from pathlib import Path\n",
    "\n",
    "\n",
    "def download_demo_file(url):\n",
    "    if not Path(\"CTD-spiked-unfiltered.cnv.bz2\").exists():\n",
    "        response = requests.get(url, allow_redirects=True)\n",
    "        try:\n",
    "            response.raise_for_status()\n",
    "        except requests.exceptions.HTTPError as err:\n",
    "            raise requests.exceptions.HTTPError(f\"{response.content.decode()}\") from err\n",
    "        data = io.BytesIO(response.content)\n",
    "        data.seek(0)\n",
    "        Path(\"CTD-spiked-unfiltered.cnv.bz2\").write_bytes(data.read())\n",
    "\n",
    "\n",
    "url = \"https://github.com/pyoceans/python-ctd/raw/main/tests/data/CTD-spiked-unfiltered.cnv.bz2\"\n",
    "download_demo_file(url)"
   ]
  },
  {
   "cell_type": "code",
   "execution_count": 2,
   "metadata": {
    "execution": {
     "iopub.execute_input": "2022-05-31T17:34:31.620641Z",
     "iopub.status.busy": "2022-05-31T17:34:31.620181Z",
     "iopub.status.idle": "2022-05-31T17:34:35.452221Z",
     "shell.execute_reply": "2022-05-31T17:34:35.451626Z"
    }
   },
   "outputs": [
    {
     "data": {
      "text/html": [
       "<div>\n",
       "<style scoped>\n",
       "    .dataframe tbody tr th:only-of-type {\n",
       "        vertical-align: middle;\n",
       "    }\n",
       "\n",
       "    .dataframe tbody tr th {\n",
       "        vertical-align: top;\n",
       "    }\n",
       "\n",
       "    .dataframe thead th {\n",
       "        text-align: right;\n",
       "    }\n",
       "</style>\n",
       "<table border=\"1\" class=\"dataframe\">\n",
       "  <thead>\n",
       "    <tr style=\"text-align: right;\">\n",
       "      <th></th>\n",
       "      <th>scan</th>\n",
       "      <th>timeS</th>\n",
       "      <th>t090C</th>\n",
       "      <th>t190C</th>\n",
       "      <th>c0S/m</th>\n",
       "      <th>c1S/m</th>\n",
       "      <th>sbeox0V</th>\n",
       "      <th>par</th>\n",
       "      <th>spar</th>\n",
       "      <th>ph</th>\n",
       "      <th>...</th>\n",
       "      <th>longitude</th>\n",
       "      <th>pumps</th>\n",
       "      <th>pla</th>\n",
       "      <th>sbeox0PS</th>\n",
       "      <th>sbeox0Mm/Kg</th>\n",
       "      <th>dz/dtM</th>\n",
       "      <th>accM</th>\n",
       "      <th>flSP</th>\n",
       "      <th>xmiss</th>\n",
       "      <th>flag</th>\n",
       "    </tr>\n",
       "    <tr>\n",
       "      <th>Pressure [dbar]</th>\n",
       "      <th></th>\n",
       "      <th></th>\n",
       "      <th></th>\n",
       "      <th></th>\n",
       "      <th></th>\n",
       "      <th></th>\n",
       "      <th></th>\n",
       "      <th></th>\n",
       "      <th></th>\n",
       "      <th></th>\n",
       "      <th></th>\n",
       "      <th></th>\n",
       "      <th></th>\n",
       "      <th></th>\n",
       "      <th></th>\n",
       "      <th></th>\n",
       "      <th></th>\n",
       "      <th></th>\n",
       "      <th></th>\n",
       "      <th></th>\n",
       "      <th></th>\n",
       "    </tr>\n",
       "  </thead>\n",
       "  <tbody>\n",
       "    <tr>\n",
       "      <th>6.433</th>\n",
       "      <td>1.0</td>\n",
       "      <td>0.000</td>\n",
       "      <td>26.9647</td>\n",
       "      <td>26.9314</td>\n",
       "      <td>5.821803</td>\n",
       "      <td>5.800920</td>\n",
       "      <td>2.1099</td>\n",
       "      <td>1.000000e-12</td>\n",
       "      <td>0.0000</td>\n",
       "      <td>8.575</td>\n",
       "      <td>...</td>\n",
       "      <td>-37.22588</td>\n",
       "      <td>False</td>\n",
       "      <td>26.970</td>\n",
       "      <td>69.61016</td>\n",
       "      <td>137.397</td>\n",
       "      <td>0.000</td>\n",
       "      <td>0.00</td>\n",
       "      <td>0.16484</td>\n",
       "      <td>99.2996</td>\n",
       "      <td>False</td>\n",
       "    </tr>\n",
       "    <tr>\n",
       "      <th>6.448</th>\n",
       "      <td>2.0</td>\n",
       "      <td>0.042</td>\n",
       "      <td>26.9644</td>\n",
       "      <td>26.9307</td>\n",
       "      <td>5.821615</td>\n",
       "      <td>5.800819</td>\n",
       "      <td>2.1148</td>\n",
       "      <td>1.000000e-12</td>\n",
       "      <td>1.9601</td>\n",
       "      <td>8.580</td>\n",
       "      <td>...</td>\n",
       "      <td>-37.22588</td>\n",
       "      <td>False</td>\n",
       "      <td>26.969</td>\n",
       "      <td>69.82216</td>\n",
       "      <td>137.817</td>\n",
       "      <td>0.351</td>\n",
       "      <td>8.43</td>\n",
       "      <td>0.16484</td>\n",
       "      <td>99.3260</td>\n",
       "      <td>False</td>\n",
       "    </tr>\n",
       "    <tr>\n",
       "      <th>6.433</th>\n",
       "      <td>3.0</td>\n",
       "      <td>0.083</td>\n",
       "      <td>26.9642</td>\n",
       "      <td>26.9301</td>\n",
       "      <td>5.821421</td>\n",
       "      <td>5.800727</td>\n",
       "      <td>2.1209</td>\n",
       "      <td>1.000000e-12</td>\n",
       "      <td>0.0000</td>\n",
       "      <td>8.575</td>\n",
       "      <td>...</td>\n",
       "      <td>-37.22588</td>\n",
       "      <td>False</td>\n",
       "      <td>26.969</td>\n",
       "      <td>70.08688</td>\n",
       "      <td>138.341</td>\n",
       "      <td>-0.351</td>\n",
       "      <td>-16.87</td>\n",
       "      <td>0.16606</td>\n",
       "      <td>99.3260</td>\n",
       "      <td>False</td>\n",
       "    </tr>\n",
       "    <tr>\n",
       "      <th>6.448</th>\n",
       "      <td>4.0</td>\n",
       "      <td>0.125</td>\n",
       "      <td>26.9639</td>\n",
       "      <td>26.9296</td>\n",
       "      <td>5.821264</td>\n",
       "      <td>5.800727</td>\n",
       "      <td>2.1270</td>\n",
       "      <td>1.000000e-12</td>\n",
       "      <td>0.0000</td>\n",
       "      <td>8.575</td>\n",
       "      <td>...</td>\n",
       "      <td>-37.22588</td>\n",
       "      <td>False</td>\n",
       "      <td>26.969</td>\n",
       "      <td>70.35184</td>\n",
       "      <td>138.865</td>\n",
       "      <td>0.351</td>\n",
       "      <td>16.86</td>\n",
       "      <td>0.16606</td>\n",
       "      <td>99.3260</td>\n",
       "      <td>False</td>\n",
       "    </tr>\n",
       "    <tr>\n",
       "      <th>6.433</th>\n",
       "      <td>5.0</td>\n",
       "      <td>0.167</td>\n",
       "      <td>26.9640</td>\n",
       "      <td>26.9291</td>\n",
       "      <td>5.821219</td>\n",
       "      <td>5.800634</td>\n",
       "      <td>2.1331</td>\n",
       "      <td>1.000000e-12</td>\n",
       "      <td>0.0000</td>\n",
       "      <td>8.575</td>\n",
       "      <td>...</td>\n",
       "      <td>-37.22588</td>\n",
       "      <td>False</td>\n",
       "      <td>26.969</td>\n",
       "      <td>70.61657</td>\n",
       "      <td>139.388</td>\n",
       "      <td>-0.351</td>\n",
       "      <td>-16.86</td>\n",
       "      <td>0.16606</td>\n",
       "      <td>99.3525</td>\n",
       "      <td>False</td>\n",
       "    </tr>\n",
       "  </tbody>\n",
       "</table>\n",
       "<p>5 rows × 30 columns</p>\n",
       "</div>"
      ],
      "text/plain": [
       "                 scan  timeS    t090C    t190C     c0S/m     c1S/m  sbeox0V  \\\n",
       "Pressure [dbar]                                                               \n",
       "6.433             1.0  0.000  26.9647  26.9314  5.821803  5.800920   2.1099   \n",
       "6.448             2.0  0.042  26.9644  26.9307  5.821615  5.800819   2.1148   \n",
       "6.433             3.0  0.083  26.9642  26.9301  5.821421  5.800727   2.1209   \n",
       "6.448             4.0  0.125  26.9639  26.9296  5.821264  5.800727   2.1270   \n",
       "6.433             5.0  0.167  26.9640  26.9291  5.821219  5.800634   2.1331   \n",
       "\n",
       "                          par    spar     ph  ...  longitude  pumps     pla  \\\n",
       "Pressure [dbar]                               ...                             \n",
       "6.433            1.000000e-12  0.0000  8.575  ...  -37.22588  False  26.970   \n",
       "6.448            1.000000e-12  1.9601  8.580  ...  -37.22588  False  26.969   \n",
       "6.433            1.000000e-12  0.0000  8.575  ...  -37.22588  False  26.969   \n",
       "6.448            1.000000e-12  0.0000  8.575  ...  -37.22588  False  26.969   \n",
       "6.433            1.000000e-12  0.0000  8.575  ...  -37.22588  False  26.969   \n",
       "\n",
       "                 sbeox0PS  sbeox0Mm/Kg  dz/dtM   accM     flSP    xmiss   flag  \n",
       "Pressure [dbar]                                                                 \n",
       "6.433            69.61016      137.397   0.000   0.00  0.16484  99.2996  False  \n",
       "6.448            69.82216      137.817   0.351   8.43  0.16484  99.3260  False  \n",
       "6.433            70.08688      138.341  -0.351 -16.87  0.16606  99.3260  False  \n",
       "6.448            70.35184      138.865   0.351  16.86  0.16606  99.3260  False  \n",
       "6.433            70.61657      139.388  -0.351 -16.86  0.16606  99.3525  False  \n",
       "\n",
       "[5 rows x 30 columns]"
      ]
     },
     "execution_count": 2,
     "metadata": {},
     "output_type": "execute_result"
    }
   ],
   "source": [
    "import ctd\n",
    "\n",
    "\n",
    "cast = ctd.from_cnv(\"CTD-spiked-unfiltered.cnv.bz2\")\n",
    "down, up = cast.split()\n",
    "\n",
    "down.head()"
   ]
  },
  {
   "cell_type": "markdown",
   "metadata": {},
   "source": [
    "It is a `pandas.DataFrame` with all the pandas methods and properties."
   ]
  },
  {
   "cell_type": "code",
   "execution_count": 3,
   "metadata": {
    "execution": {
     "iopub.execute_input": "2022-05-31T17:34:35.476313Z",
     "iopub.status.busy": "2022-05-31T17:34:35.475663Z",
     "iopub.status.idle": "2022-05-31T17:34:35.483577Z",
     "shell.execute_reply": "2022-05-31T17:34:35.482915Z"
    }
   },
   "outputs": [
    {
     "data": {
      "text/plain": [
       "pandas.core.frame.DataFrame"
      ]
     },
     "execution_count": 3,
     "metadata": {},
     "output_type": "execute_result"
    }
   ],
   "source": [
    "type(cast)"
   ]
  },
  {
   "cell_type": "markdown",
   "metadata": {},
   "source": [
    "But with extras for pre-processing and plotting a ocean vertical profiles."
   ]
  },
  {
   "cell_type": "code",
   "execution_count": 4,
   "metadata": {
    "execution": {
     "iopub.execute_input": "2022-05-31T17:34:35.487247Z",
     "iopub.status.busy": "2022-05-31T17:34:35.486653Z",
     "iopub.status.idle": "2022-05-31T17:34:35.593034Z",
     "shell.execute_reply": "2022-05-31T17:34:35.592520Z"
    }
   },
   "outputs": [
    {
     "data": {
      "text/plain": [
       "<AxesSubplot:xlabel='c0S/m', ylabel='Pressure [dbar]'>"
      ]
     },
     "execution_count": 4,
     "metadata": {},
     "output_type": "execute_result"
    },
    {
     "data": {
      "image/png": "[encoded data removed]",
      "text/plain": [
       "<Figure size 378x486 with 1 Axes>"
      ]
     },
     "metadata": {},
     "output_type": "display_data"
    }
   ],
   "source": [
    "%matplotlib inline\n",
    "\n",
    "from matplotlib import style\n",
    "\n",
    "style.use(\"seaborn-whitegrid\")\n",
    "\n",
    "\n",
    "down[\"t090C\"].plot_cast()\n",
    "down[\"c0S/m\"].plot_cast()"
   ]
  },
  {
   "cell_type": "markdown",
   "metadata": {},
   "source": [
    "Sometimes it is useful to plot the second variable in a different axis so we can compare the two."
   ]
  },
  {
   "cell_type": "code",
   "execution_count": 5,
   "metadata": {
    "execution": {
     "iopub.execute_input": "2022-05-31T17:34:35.596843Z",
     "iopub.status.busy": "2022-05-31T17:34:35.595541Z",
     "iopub.status.idle": "2022-05-31T17:34:35.801686Z",
     "shell.execute_reply": "2022-05-31T17:34:35.801142Z"
    }
   },
   "outputs": [
    {
     "data": {
      "image/png": "[encoded data removed]",
      "text/plain": [
       "<Figure size 378x486 with 2 Axes>"
      ]
     },
     "metadata": {},
     "output_type": "display_data"
    }
   ],
   "source": [
    "ax0 = down[\"t090C\"].plot_cast(label=\"Temperature (°C)\")\n",
    "ax1 = down[\"c0S/m\"].plot_cast(\n",
    "    ax=ax0,\n",
    "    label=\"Conductivity (S/m)\",\n",
    "    color=\"orange\",\n",
    "    secondary_y=True,\n",
    ")\n",
    "\n",
    "\n",
    "ax0.grid(False)\n",
    "ax1.grid(False)\n",
    "\n",
    "ax0.legend(loc=\"lower left\")\n",
    "ax1.legend(loc=\"lower right\");"
   ]
  },
  {
   "cell_type": "markdown",
   "metadata": {},
   "source": [
    "`python-ctd` saves of the file metadata in a dictionary to make them easy to access later. "
   ]
  },
  {
   "cell_type": "code",
   "execution_count": 6,
   "metadata": {
    "execution": {
     "iopub.execute_input": "2022-05-31T17:34:35.806226Z",
     "iopub.status.busy": "2022-05-31T17:34:35.804902Z",
     "iopub.status.idle": "2022-05-31T17:34:35.811258Z",
     "shell.execute_reply": "2022-05-31T17:34:35.810775Z"
    }
   },
   "outputs": [
    {
     "data": {
      "text/plain": [
       "dict_keys(['name', 'header', 'config', 'names', 'skiprows', 'time', 'lon', 'lat'])"
      ]
     },
     "execution_count": 6,
     "metadata": {},
     "output_type": "execute_result"
    }
   ],
   "source": [
    "metadata = cast._metadata\n",
    "\n",
    "metadata.keys()"
   ]
  },
  {
   "cell_type": "code",
   "execution_count": 7,
   "metadata": {
    "execution": {
     "iopub.execute_input": "2022-05-31T17:34:35.815120Z",
     "iopub.status.busy": "2022-05-31T17:34:35.814114Z",
     "iopub.status.idle": "2022-05-31T17:34:35.819604Z",
     "shell.execute_reply": "2022-05-31T17:34:35.819136Z"
    }
   },
   "outputs": [
    {
     "name": "stdout",
     "output_type": "stream",
     "text": [
      "* Sea-Bird SBE 9 Data File:\n",
      "* FileName = Z:\\CTD_1.hex\n",
      "* Software Version Seasave V 7.21h\n",
      "* Temperature SN = 2317\n",
      "* Conductivity SN = 4010\n",
      "* Number of Bytes Per Scan = 48\n",
      "* Number of Voltage Words = 5\n",
      "* Number of Scans Averaged by the Deck Unit = 1\n",
      "* Append System Time to Every Scan\n",
      "* System UpLoad Time = Apr 01 2011 07:26:31\n",
      "* NMEA Latitude = 17 58.71 S\n",
      "* NMEA Longitude = 037 13.52 W\n",
      "* NMEA UTC (Time) = Apr 01 2011  07:26:31\n",
      "* Store Lat/Lon Data = Append to Every Scan\n",
      "** Ship: RV Meteor\n",
      "** Station: 1\n",
      "** Operator: Ed\n",
      "* System UTC = Apr 01 2011 07:26:31\n",
      "*END*\n"
     ]
    }
   ],
   "source": [
    "print(metadata[\"header\"])"
   ]
  },
  {
   "cell_type": "markdown",
   "metadata": {},
   "source": [
    "## Pre-processing steps"
   ]
  },
  {
   "cell_type": "markdown",
   "metadata": {},
   "source": [
    "Usually the first pre-processing step is to filter the high frequency jitter in the pressure sensor with a low pass filter, here is a zoom in the pressure data (the `pandas` index) demonstrating it:"
   ]
  },
  {
   "cell_type": "code",
   "execution_count": 8,
   "metadata": {
    "execution": {
     "iopub.execute_input": "2022-05-31T17:34:35.823402Z",
     "iopub.status.busy": "2022-05-31T17:34:35.822429Z",
     "iopub.status.idle": "2022-05-31T17:34:36.231326Z",
     "shell.execute_reply": "2022-05-31T17:34:36.230637Z"
    }
   },
   "outputs": [
    {
     "data": {
      "image/png": "[encoded data removed]",
      "text/plain": [
       "<Figure size 432x288 with 1 Axes>"
      ]
     },
     "metadata": {},
     "output_type": "display_data"
    }
   ],
   "source": [
    "import matplotlib.pyplot as plt\n",
    "\n",
    "fig, ax = plt.subplots()\n",
    "ax.plot(down.index, label=\"unfiltered\")\n",
    "ax.plot(down.lp_filter().index, label=\"filtered\")\n",
    "ax.axis([20870, 20930, 557.5, 559])\n",
    "fig.legend();"
   ]
  },
  {
   "cell_type": "markdown",
   "metadata": {},
   "source": [
    "Thanks to [pandas_flavor](https://github.com/Zsailer/pandas_flavor) we can chain all the pre-processing steps together."
   ]
  },
  {
   "cell_type": "code",
   "execution_count": 9,
   "metadata": {
    "execution": {
     "iopub.execute_input": "2022-05-31T17:34:36.234691Z",
     "iopub.status.busy": "2022-05-31T17:34:36.234448Z",
     "iopub.status.idle": "2022-05-31T17:34:36.640496Z",
     "shell.execute_reply": "2022-05-31T17:34:36.639821Z"
    }
   },
   "outputs": [
    {
     "data": {
      "text/html": [
       "<div>\n",
       "<style scoped>\n",
       "    .dataframe tbody tr th:only-of-type {\n",
       "        vertical-align: middle;\n",
       "    }\n",
       "\n",
       "    .dataframe tbody tr th {\n",
       "        vertical-align: top;\n",
       "    }\n",
       "\n",
       "    .dataframe thead th {\n",
       "        text-align: right;\n",
       "    }\n",
       "</style>\n",
       "<table border=\"1\" class=\"dataframe\">\n",
       "  <thead>\n",
       "    <tr style=\"text-align: right;\">\n",
       "      <th></th>\n",
       "      <th>t090C</th>\n",
       "      <th>c0S/m</th>\n",
       "    </tr>\n",
       "  </thead>\n",
       "  <tbody>\n",
       "    <tr>\n",
       "      <th>8.0</th>\n",
       "      <td>26.975256</td>\n",
       "      <td>5.845194</td>\n",
       "    </tr>\n",
       "    <tr>\n",
       "      <th>9.0</th>\n",
       "      <td>26.975653</td>\n",
       "      <td>5.845291</td>\n",
       "    </tr>\n",
       "    <tr>\n",
       "      <th>10.0</th>\n",
       "      <td>26.976037</td>\n",
       "      <td>5.845386</td>\n",
       "    </tr>\n",
       "    <tr>\n",
       "      <th>11.0</th>\n",
       "      <td>26.976401</td>\n",
       "      <td>5.845478</td>\n",
       "    </tr>\n",
       "    <tr>\n",
       "      <th>12.0</th>\n",
       "      <td>26.976740</td>\n",
       "      <td>5.845565</td>\n",
       "    </tr>\n",
       "  </tbody>\n",
       "</table>\n",
       "</div>"
      ],
      "text/plain": [
       "          t090C     c0S/m\n",
       "8.0   26.975256  5.845194\n",
       "9.0   26.975653  5.845291\n",
       "10.0  26.976037  5.845386\n",
       "11.0  26.976401  5.845478\n",
       "12.0  26.976740  5.845565"
      ]
     },
     "execution_count": 9,
     "metadata": {},
     "output_type": "execute_result"
    }
   ],
   "source": [
    "down = down[[\"t090C\", \"c0S/m\"]]\n",
    "\n",
    "proc = (\n",
    "    down.remove_above_water()\n",
    "    .remove_up_to(idx=7)\n",
    "    .despike(n1=2, n2=20, block=100)\n",
    "    .lp_filter()\n",
    "    .press_check()\n",
    "    .interpolate()\n",
    "    .bindata(delta=1, method=\"interpolate\")\n",
    "    .smooth(window_len=21, window=\"hanning\")\n",
    ")\n",
    "\n",
    "proc.head()"
   ]
  },
  {
   "cell_type": "markdown",
   "metadata": {},
   "source": [
    "## CTD derive\n",
    "\n",
    "Now we can compute all the derived variables."
   ]
  },
  {
   "cell_type": "code",
   "execution_count": 10,
   "metadata": {
    "execution": {
     "iopub.execute_input": "2022-05-31T17:34:36.643701Z",
     "iopub.status.busy": "2022-05-31T17:34:36.643336Z",
     "iopub.status.idle": "2022-05-31T17:34:36.647457Z",
     "shell.execute_reply": "2022-05-31T17:34:36.646988Z"
    }
   },
   "outputs": [
    {
     "data": {
      "text/plain": [
       "(-37.22533333333333, -17.9785)"
      ]
     },
     "execution_count": 10,
     "metadata": {},
     "output_type": "execute_result"
    }
   ],
   "source": [
    "lon, lat = metadata[\"lon\"], metadata[\"lat\"]\n",
    "lon, lat"
   ]
  },
  {
   "cell_type": "code",
   "execution_count": 11,
   "metadata": {
    "execution": {
     "iopub.execute_input": "2022-05-31T17:34:36.650323Z",
     "iopub.status.busy": "2022-05-31T17:34:36.649835Z",
     "iopub.status.idle": "2022-05-31T17:34:36.658433Z",
     "shell.execute_reply": "2022-05-31T17:34:36.657866Z"
    }
   },
   "outputs": [],
   "source": [
    "import gsw\n",
    "\n",
    "p = proc.index\n",
    "\n",
    "SP = gsw.SP_from_C(proc[\"c0S/m\"].to_numpy() * 10.0, proc[\"t090C\"].to_numpy(), p)\n",
    "SA = gsw.SA_from_SP(SP, p, lon, lat)\n",
    "SR = gsw.SR_from_SP(SP)\n",
    "\n",
    "CT = gsw.CT_from_t(SA, proc[\"t090C\"].to_numpy(), p)\n",
    "z = -gsw.z_from_p(p, lat)\n",
    "sigma0_CT = gsw.sigma0(SA, CT)\n",
    "\n",
    "proc = (\n",
    "    proc.assign(SP=SP)\n",
    "    .assign(SA=SA)\n",
    "    .assign(SR=SR)\n",
    "    .assign(CT=CT)\n",
    "    .assign(z=z)\n",
    "    .assign(sigma0_CT=sigma0_CT)\n",
    ")"
   ]
  },
  {
   "cell_type": "code",
   "execution_count": 12,
   "metadata": {
    "execution": {
     "iopub.execute_input": "2022-05-31T17:34:36.661195Z",
     "iopub.status.busy": "2022-05-31T17:34:36.660725Z",
     "iopub.status.idle": "2022-05-31T17:34:36.900289Z",
     "shell.execute_reply": "2022-05-31T17:34:36.899522Z"
    }
   },
   "outputs": [
    {
     "data": {
      "image/png": "[encoded data removed]",
      "text/plain": [
       "<Figure size 378x648 with 1 Axes>"
      ]
     },
     "metadata": {},
     "output_type": "display_data"
    }
   ],
   "source": [
    "labels = [\n",
    "    r\"Absolute Salinity (g kg$^{-1}$)\",\n",
    "    r\"Reference Salinity (g kg$^{-1}$)\",\n",
    "    \"Practical Salinity\",\n",
    "]\n",
    "\n",
    "\n",
    "ax = proc[[\"SA\", \"SR\", \"SP\"]].plot_cast(\n",
    "    figsize=(5.25, 9),\n",
    "    label=labels,\n",
    ")\n",
    "ax.set_ylabel(\"Pressure (dbar)\")\n",
    "ax.grid(True)\n",
    "ax.legend()\n",
    "ax.set_title(\"Salinities\");"
   ]
  },
  {
   "cell_type": "markdown",
   "metadata": {},
   "source": [
    "Last but not least let's tweak a three line plot with the main variables measured."
   ]
  },
  {
   "cell_type": "code",
   "execution_count": 13,
   "metadata": {
    "execution": {
     "iopub.execute_input": "2022-05-31T17:34:36.903969Z",
     "iopub.status.busy": "2022-05-31T17:34:36.903532Z",
     "iopub.status.idle": "2022-05-31T17:34:36.908319Z",
     "shell.execute_reply": "2022-05-31T17:34:36.907713Z"
    }
   },
   "outputs": [],
   "source": [
    "def make_patch_spines_invisible(ax):\n",
    "    ax.set_frame_on(True)\n",
    "    ax.patch.set_visible(False)\n",
    "    for sp in ax.spines.values():\n",
    "        sp.set_visible(False)"
   ]
  },
  {
   "cell_type": "code",
   "execution_count": 14,
   "metadata": {
    "execution": {
     "iopub.execute_input": "2022-05-31T17:34:36.911191Z",
     "iopub.status.busy": "2022-05-31T17:34:36.910649Z",
     "iopub.status.idle": "2022-05-31T17:34:37.398185Z",
     "shell.execute_reply": "2022-05-31T17:34:37.397541Z"
    }
   },
   "outputs": [
    {
     "data": {
      "image/png": "[encoded data removed]",
      "text/plain": [
       "<Figure size 360x648 with 3 Axes>"
      ]
     },
     "metadata": {},
     "output_type": "display_data"
    }
   ],
   "source": [
    "fig, ax0 = plt.subplots(figsize=(5, 9))\n",
    "\n",
    "colors = [\"#1f77b4\", \"#ff7f0e\", \"#2ca02c\"]\n",
    "\n",
    "ax0.invert_yaxis()\n",
    "ax1 = ax0.twiny()\n",
    "ax2 = ax0.twiny()\n",
    "\n",
    "(l0,) = ax0.plot(proc[\"CT\"], proc.index, color=colors[0], label=\"CT\")\n",
    "ax0.set_xlabel(\"Conservative Temperature (°C)\")\n",
    "\n",
    "(l1,) = ax1.plot(proc[\"SA\"], proc.index, color=colors[1], label=\"SA\")\n",
    "ax1.set_xlabel(\"Absolute Salinity (g kg$^{-1}$)\")\n",
    "\n",
    "(l2,) = ax2.plot(\n",
    "    proc[\"sigma0_CT\"], proc.index, color=colors[2], label=r\"$\\sigma_{0\\_CT}$\"\n",
    ")\n",
    "ax2.set_xlabel(r\"$\\sigma_{0\\_CT}$ (kg m$^{-3}$)\")\n",
    "\n",
    "make_patch_spines_invisible(ax2)\n",
    "ax2.spines[\"top\"].set_position((\"axes\", 1.1))\n",
    "ax2.spines[\"top\"].set_visible(True)\n",
    "\n",
    "ax0.xaxis.label.set_color(l0.get_color())\n",
    "ax1.xaxis.label.set_color(l1.get_color())\n",
    "ax2.xaxis.label.set_color(l2.get_color())\n",
    "\n",
    "ax0.tick_params(axis=\"x\", colors=l0.get_color())\n",
    "ax1.tick_params(axis=\"x\", colors=l1.get_color())\n",
    "ax2.tick_params(axis=\"x\", colors=l2.get_color())\n",
    "\n",
    "ax0.grid(False)\n",
    "ax1.grid(False)\n",
    "ax2.grid(False)\n",
    "\n",
    "ax0.legend(loc=\"lower left\")\n",
    "ax1.legend(loc=\"lower right\")\n",
    "ax2.legend(loc=\"lower center\");"
   ]
  }
 ],
 "metadata": {
  "kernelspec": {
   "display_name": "Python 3 (ipykernel)",
   "language": "python",
   "name": "python3"
  },
  "language_info": {
   "codemirror_mode": {
    "name": "ipython",
    "version": 3
   },
   "file_extension": ".py",
   "mimetype": "text/x-python",
   "name": "python",
   "nbconvert_exporter": "python",
   "pygments_lexer": "ipython3",
   "version": "3.10.4"
  }
 },
 "nbformat": 4,
 "nbformat_minor": 2
}
